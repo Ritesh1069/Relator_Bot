{
 "cells": [
  {
   "cell_type": "code",
   "execution_count": 8,
   "id": "2c2ab936",
   "metadata": {},
   "outputs": [],
   "source": [
    "import csv\n",
    "import random\n",
    "from faker import Faker\n",
    "\n",
    "fake = Faker()\n",
    "\n",
    "def generate_random_data(num_entries):\n",
    "    data = []\n",
    "    i=0\n",
    "    for _ in range(num_entries):\n",
    "        name = fake.first_name()\n",
    "        i += 1\n",
    "        user_name = i\n",
    "        first_name = (name + str(user_name))\n",
    "        gender = random.choice(['male', 'female'])\n",
    "        birthday = fake.date_of_birth().strftime('%m/%d/%Y')\n",
    "        email = fake.email()\n",
    "        profile_link = fake.uri()\n",
    "        categories = ','.join(random.sample([\n",
    "            \"Politician\", \"Government organisation\", \"Photographer\", \"Software company\", \n",
    "            \"Artist\", \"Video creator\", \"Gaming\", \"Science and tech\", \"Digital creator\",\n",
    "            \"Cause\", \"Musician/Band\", \"Institute\", \"Property\", \"DJ\", \"Entertainer\", \"Event Planner\", \"Clinic\", \"Doctor\", \"Hospital\", \"Pet Store\", \"Graphic Designer\", \"Publisher\", \"Dentist\"\n",
    "        ], random.randint(5, 20)))\n",
    "        data.append([first_name, gender, birthday, email, profile_link, categories])\n",
    "    return data\n",
    "\n",
    "def write_to_csv(data, filename):\n",
    "    with open(filename, 'w', newline='') as file:\n",
    "        writer = csv.writer(file)\n",
    "        writer.writerow([\"first_name\", \"gender\", \"birthday\", \"email\", \"profile_link\", \"categories\"])\n",
    "        writer.writerows(data)\n",
    "\n",
    "# Generate random data\n",
    "num_entries = 100\n",
    "random_data = generate_random_data(num_entries)\n",
    "\n",
    "# Write data to CSV\n",
    "write_to_csv(random_data, 'R:/random_data_new.csv')\n"
   ]
  }
 ],
 "metadata": {
  "kernelspec": {
   "display_name": "Python 3 (ipykernel)",
   "language": "python",
   "name": "python3"
  },
  "language_info": {
   "codemirror_mode": {
    "name": "ipython",
    "version": 3
   },
   "file_extension": ".py",
   "mimetype": "text/x-python",
   "name": "python",
   "nbconvert_exporter": "python",
   "pygments_lexer": "ipython3",
   "version": "3.10.10"
  }
 },
 "nbformat": 4,
 "nbformat_minor": 5
}
